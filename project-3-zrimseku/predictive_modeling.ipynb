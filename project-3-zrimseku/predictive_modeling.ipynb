{
 "cells": [
  {
   "cell_type": "markdown",
   "source": [
    "# Project 3: Predictive modeling\n",
    "*University of Ljubljana, Faculty for computer and information science* <br />\n",
    "*Course: Introduction to data science*"
   ],
   "metadata": {
    "collapsed": false
   }
  },
  {
   "cell_type": "markdown",
   "source": [
    "In this Jupyter notebook you should document all the analyses (tables, figures, models) you have perfomed to write your report.\n",
    "\n",
    "All the code in the notebook must be reproducible and runnable, so include instructions for the environment setup or other specifics needed to run the notebook."
   ],
   "metadata": {
    "collapsed": false
   }
  },
  {
   "cell_type": "markdown",
   "source": [
    "## Environment setup"
   ],
   "metadata": {
    "collapsed": false
   }
  },
  {
   "cell_type": "markdown",
   "source": [
    "In the repository I included a yml file with all needed dependencies for this notebook to run. You can create a conda environment with the following command:\n",
    "\n",
    "`conda env create -f environment.yml`\n",
    "\n",
    "After creating it, you activate it by `conda activate ids-proj-3`. When you start jupyter notebook you need to select kernel with name `Python [conda env:ids-proj-3]`."
   ],
   "metadata": {
    "collapsed": false
   }
  },
  {
   "cell_type": "code",
   "execution_count": null,
   "outputs": [],
   "source": [
    "import time\n",
    "import pandas as pd\n",
    "import numpy as np\n",
    "import matplotlib.pyplot as plt\n",
    "import joblib\n",
    "\n",
    "\n",
    "from sklearn.metrics import mean_squared_error, make_scorer\n",
    "\n",
    "from sklearn import svm\n",
    "from sklearn.decomposition import PCA\n",
    "from sklearn.pipeline import make_pipeline\n",
    "from sklearn.tree import DecisionTreeRegressor\n",
    "from xgboost import XGBClassifier"
   ],
   "metadata": {
    "collapsed": false,
    "pycharm": {
     "name": "#%%\n"
    }
   }
  },
  {
   "cell_type": "code",
   "execution_count": null,
   "outputs": [],
   "source": [
    "pd.options.mode.chained_assignment = None"
   ],
   "metadata": {
    "collapsed": false,
    "pycharm": {
     "name": "#%%\n"
    }
   }
  },
  {
   "cell_type": "markdown",
   "source": [
    "## Identifying anonymous users"
   ],
   "metadata": {
    "collapsed": false
   }
  },
  {
   "cell_type": "code",
   "execution_count": 91,
   "outputs": [],
   "source": [
    "usage = pd.read_csv('data/Celtra platform usage data.csv')\n",
    "sessions = pd.read_csv('data/Celtra sessions data.csv')"
   ],
   "metadata": {
    "collapsed": false,
    "pycharm": {
     "name": "#%%\n"
    }
   }
  },
  {
   "cell_type": "markdown",
   "source": [
    "First we filter out all anonymous users."
   ],
   "metadata": {
    "collapsed": false
   }
  },
  {
   "cell_type": "code",
   "execution_count": 92,
   "outputs": [],
   "source": [
    "known_user = usage[usage['USER'] != '(anonymous)']"
   ],
   "metadata": {
    "collapsed": false,
    "pycharm": {
     "name": "#%%\n"
    }
   }
  },
  {
   "cell_type": "code",
   "execution_count": 86,
   "outputs": [
    {
     "name": "stdout",
     "output_type": "stream",
     "text": [
      "Activity locations not used by any real user: socialLinkDialog\n"
     ]
    }
   ],
   "source": [
    "print(f\"Activity locations not used by any real user: {', '.join(np.setdiff1d(usage['ACTIVITYLOCATION'].unique(), known_user['ACTIVITYLOCATION'].unique()))}\")\n"
   ],
   "metadata": {
    "collapsed": false,
    "pycharm": {
     "name": "#%%\n"
    }
   }
  },
  {
   "cell_type": "markdown",
   "source": [
    "Let's test if a user can be logged in and anonymous in the same session - then you could directly know which user that is."
   ],
   "metadata": {
    "collapsed": false
   }
  },
  {
   "cell_type": "code",
   "execution_count": 87,
   "outputs": [
    {
     "name": "stdout",
     "output_type": "stream",
     "text": [
      "Number of such sessions: 19179\n"
     ]
    }
   ],
   "source": [
    "users_one_session = usage[['USER', 'SESSION']].groupby('SESSION').agg('nunique').sort_values(by='USER', ascending=False)\n",
    "print(f\"Number of such sessions: {users_one_session[users_one_session['USER'] == 2].size}\")"
   ],
   "metadata": {
    "collapsed": false,
    "pycharm": {
     "name": "#%%\n"
    }
   }
  },
  {
   "cell_type": "code",
   "execution_count": 88,
   "outputs": [
    {
     "name": "stdout",
     "output_type": "stream",
     "text": [
      "Number of anonymous users sessions: 217925\n"
     ]
    }
   ],
   "source": [
    "print(f\"Number of anonymous users sessions: {usage[usage['USER'] == '(anonymous)'].groupby('SESSION').agg('nunique').size}\")\n"
   ],
   "metadata": {
    "collapsed": false,
    "pycharm": {
     "name": "#%%\n"
    }
   }
  },
  {
   "cell_type": "markdown",
   "source": [
    "Can there be a session with two known users?"
   ],
   "metadata": {
    "collapsed": false
   }
  },
  {
   "cell_type": "code",
   "execution_count": 89,
   "outputs": [
    {
     "name": "stdout",
     "output_type": "stream",
     "text": [
      "Number of such sessions: 0\n"
     ]
    }
   ],
   "source": [
    "known_users_one_session = usage[usage['USER'] != '(anonymous)'][['USER', 'SESSION']].groupby('SESSION').agg('nunique')\n",
    "print(f\"Number of such sessions: {known_users_one_session[known_users_one_session['USER'] == 2].size}\")"
   ],
   "metadata": {
    "collapsed": false,
    "pycharm": {
     "name": "#%%\n"
    }
   }
  },
  {
   "cell_type": "markdown",
   "source": [
    "Prepare numerical data"
   ],
   "metadata": {
    "collapsed": false
   }
  },
  {
   "cell_type": "code",
   "execution_count": 93,
   "outputs": [
    {
     "data": {
      "text/plain": "(515024, 7)"
     },
     "execution_count": 93,
     "metadata": {},
     "output_type": "execute_result"
    }
   ],
   "source": [
    "known_user['DATE'] = pd.to_datetime(known_user['TIMESTAMP']).dt.dayofyear\n",
    "known_user['HOUR'] = pd.to_datetime(known_user['TIMESTAMP']).dt.hour\n",
    "known_user['MIN'] = pd.to_datetime(known_user['TIMESTAMP']).dt.hour * 60 + pd.to_datetime(known_user['TIMESTAMP']).dt.minute\n",
    "known_user = known_user.drop(['TIMESTAMP', 'ACTIVITY'], axis=1)\n",
    "\n",
    "known_user.shape"
   ],
   "metadata": {
    "collapsed": false,
    "pycharm": {
     "name": "#%%\n"
    }
   }
  },
  {
   "cell_type": "markdown",
   "source": [
    "For testing we will take only sessions on the platforms that anonymous user can use.\n",
    "Project 2: users still log in ~ 75% of time when they don't need to.\n",
    "--> for test set we will take 25% of activity locations that can be used without logging in for each user."
   ],
   "metadata": {
    "collapsed": false
   }
  },
  {
   "cell_type": "code",
   "execution_count": null,
   "outputs": [],
   "source": [
    "no_log_in = ['campaignExplorer', 'comments', 'adBuilder', 'previewPage', 'socialLinkDialog', 'demoPage', 'creativeExport']\n",
    "# no_log_in = [actloc_dict[act] for act in no_log_in_text]\n",
    "\n",
    "np.random.seed(0)\n",
    "\n",
    "test_idx = []\n",
    "for user in known_user['USER'].unique():\n",
    "    test_idx.append(known_user[(known_user['USER'] == user) & (known_user['ACTIVITYLOCATION'].isin(no_log_in))]\n",
    "                    .sample(frac=0.25).index.values)\n",
    "test_idx = np.concatenate(test_idx)\n",
    "\n",
    "# joblib.dump(test_idx, 'test_index.joblib')"
   ],
   "metadata": {
    "collapsed": false,
    "pycharm": {
     "name": "#%%\n"
    }
   }
  },
  {
   "cell_type": "markdown",
   "source": [
    "Second version of our model will take train and test set sepparated in a point in time.\n",
    "We will again take 25% of activity locations that can be used without logging for test set, but the difference will\n",
    "be that we won't take those randomly, but will take the last quarter."
   ],
   "metadata": {
    "collapsed": false
   }
  },
  {
   "cell_type": "code",
   "execution_count": null,
   "outputs": [],
   "source": [
    "df_no_login = known_user[known_user['ACTIVITYLOCATION'].isin(no_log_in)].index.values\n",
    "test_idx_timesplit = df_no_login[round(len(df_no_login)*0.75):]\n",
    "\n",
    "# joblib.dump(test_idx_timesplit, 'test_index_timesplit.joblib')"
   ],
   "metadata": {
    "collapsed": false,
    "pycharm": {
     "name": "#%%\n"
    }
   }
  },
  {
   "cell_type": "markdown",
   "source": [
    "Models are trained in separate files. Parameters are evaluated in `svc_kfold.py`, `pipeline_kfold.py` and\n",
    "`kfold_timesplit`.\n",
    "Let's look at the results of RandomizedSearchCV with KFold cross validation."
   ],
   "metadata": {
    "collapsed": false
   }
  },
  {
   "cell_type": "code",
   "execution_count": null,
   "outputs": [],
   "source": [
    "svc_kfold_results = joblib.load('svm_results_acc.joblib').cv_results_\n",
    "pipeline_kfold_results = joblib.load('pipeline_results_acc.joblib').named_steps.randomizedsearchcv.cv_results_"
   ],
   "metadata": {
    "collapsed": false,
    "pycharm": {
     "name": "#%%\n"
    }
   }
  },
  {
   "cell_type": "code",
   "execution_count": 94,
   "outputs": [
    {
     "data": {
      "text/plain": "            parameters      model  mean_accuracy  std_accuracy\n0   linear, 0.001, 0.1        SVC       0.914199      0.005991\n1   linear, 0.001, 0.1  PCA + SVC       0.979670      0.001526\n2        rbf, 0.001, 1        SVC       0.926060      0.009962\n3        rbf, 0.001, 1  PCA + SVC       0.977526      0.003246\n4          rbf, 0.1, 1        SVC       0.990034      0.001959\n5          rbf, 0.1, 1  PCA + SVC       0.989637      0.001224\n6            rbf, 1, 1        SVC       0.961085      0.006608\n7            rbf, 1, 1  PCA + SVC       0.984594      0.001693\n8          rbf, 0.1, 5        SVC       0.991078      0.001656\n9          rbf, 0.1, 5  PCA + SVC       0.989954      0.001067\n10         rbf, 1, 0.1        SVC       0.660497      0.007683\n11         rbf, 1, 0.1  PCA + SVC       0.923804      0.004131",
      "text/html": "<div>\n<style scoped>\n    .dataframe tbody tr th:only-of-type {\n        vertical-align: middle;\n    }\n\n    .dataframe tbody tr th {\n        vertical-align: top;\n    }\n\n    .dataframe thead th {\n        text-align: right;\n    }\n</style>\n<table border=\"1\" class=\"dataframe\">\n  <thead>\n    <tr style=\"text-align: right;\">\n      <th></th>\n      <th>parameters</th>\n      <th>model</th>\n      <th>mean_accuracy</th>\n      <th>std_accuracy</th>\n    </tr>\n  </thead>\n  <tbody>\n    <tr>\n      <th>0</th>\n      <td>linear, 0.001, 0.1</td>\n      <td>SVC</td>\n      <td>0.914199</td>\n      <td>0.005991</td>\n    </tr>\n    <tr>\n      <th>1</th>\n      <td>linear, 0.001, 0.1</td>\n      <td>PCA + SVC</td>\n      <td>0.979670</td>\n      <td>0.001526</td>\n    </tr>\n    <tr>\n      <th>2</th>\n      <td>rbf, 0.001, 1</td>\n      <td>SVC</td>\n      <td>0.926060</td>\n      <td>0.009962</td>\n    </tr>\n    <tr>\n      <th>3</th>\n      <td>rbf, 0.001, 1</td>\n      <td>PCA + SVC</td>\n      <td>0.977526</td>\n      <td>0.003246</td>\n    </tr>\n    <tr>\n      <th>4</th>\n      <td>rbf, 0.1, 1</td>\n      <td>SVC</td>\n      <td>0.990034</td>\n      <td>0.001959</td>\n    </tr>\n    <tr>\n      <th>5</th>\n      <td>rbf, 0.1, 1</td>\n      <td>PCA + SVC</td>\n      <td>0.989637</td>\n      <td>0.001224</td>\n    </tr>\n    <tr>\n      <th>6</th>\n      <td>rbf, 1, 1</td>\n      <td>SVC</td>\n      <td>0.961085</td>\n      <td>0.006608</td>\n    </tr>\n    <tr>\n      <th>7</th>\n      <td>rbf, 1, 1</td>\n      <td>PCA + SVC</td>\n      <td>0.984594</td>\n      <td>0.001693</td>\n    </tr>\n    <tr>\n      <th>8</th>\n      <td>rbf, 0.1, 5</td>\n      <td>SVC</td>\n      <td>0.991078</td>\n      <td>0.001656</td>\n    </tr>\n    <tr>\n      <th>9</th>\n      <td>rbf, 0.1, 5</td>\n      <td>PCA + SVC</td>\n      <td>0.989954</td>\n      <td>0.001067</td>\n    </tr>\n    <tr>\n      <th>10</th>\n      <td>rbf, 1, 0.1</td>\n      <td>SVC</td>\n      <td>0.660497</td>\n      <td>0.007683</td>\n    </tr>\n    <tr>\n      <th>11</th>\n      <td>rbf, 1, 0.1</td>\n      <td>PCA + SVC</td>\n      <td>0.923804</td>\n      <td>0.004131</td>\n    </tr>\n  </tbody>\n</table>\n</div>"
     },
     "execution_count": 94,
     "metadata": {},
     "output_type": "execute_result"
    }
   ],
   "source": [
    "results = pd.DataFrame(columns=['parameters', 'model', 'mean_accuracy', 'std_accuracy'])\n",
    "for i in range(len(svc_kfold_results['params'])):\n",
    "    results.loc[2*i] = [', '.join(str(x) for x in svc_kfold_results['params'][i].values()), 'SVC',\n",
    "                        svc_kfold_results['mean_test_score'][i], svc_kfold_results['std_test_score'][i]]\n",
    "    results.loc[2*i + 1] = [', '.join(str(x) for x in pipeline_kfold_results['params'][i].values()), 'PCA + SVC',\n",
    "                            pipeline_kfold_results['mean_test_score'][i], pipeline_kfold_results['std_test_score'][i]]\n",
    "results"
   ],
   "metadata": {
    "collapsed": false,
    "pycharm": {
     "name": "#%%\n"
    }
   }
  },
  {
   "cell_type": "code",
   "execution_count": 95,
   "outputs": [
    {
     "name": "stdout",
     "output_type": "stream",
     "text": [
      "Best parameters for SVC on train/test set split by time: {'kernel': 'rbf', 'gamma': 0.01, 'C': 5}\n"
     ]
    }
   ],
   "source": [
    "svc_kfold_time = joblib.load('svm_results_time_rbf.joblib').cv_results_\n",
    "svc_best = svc_kfold_time['params'][np.argmin(svc_kfold_time['rank_test_score'])]\n",
    "print(f\"Best parameters for SVC on train/test set split by time: {svc_best}\")"
   ],
   "metadata": {
    "collapsed": false,
    "pycharm": {
     "name": "#%%\n"
    }
   }
  },
  {
   "cell_type": "markdown",
   "source": [
    "Results of training with best parameters on whole dataset on randomly chosen test data:"
   ],
   "metadata": {
    "collapsed": false
   }
  },
  {
   "cell_type": "code",
   "execution_count": null,
   "outputs": [],
   "source": [
    "# preparing test set\n",
    "df1 = pd.get_dummies(known_user[['ACCOUNT', 'USER', 'ACTIVITYLOCATION', 'DATE', 'MIN']], columns=['ACTIVITYLOCATION', 'ACCOUNT'])\n",
    "usage_test = df1.loc[test_idx]\n",
    "X_test = usage_test.loc[:, usage_test.columns != 'USER']\n",
    "y_test = usage_test['USER']"
   ],
   "metadata": {
    "collapsed": false,
    "pycharm": {
     "name": "#%%\n"
    }
   }
  },
  {
   "cell_type": "code",
   "execution_count": null,
   "outputs": [],
   "source": [
    "# loading models, trained in separate files\n",
    "model_svm = joblib.load('svm_users_acc.joblib')\n",
    "model_pca_svm = joblib.load('pipeline_users_acc.joblib')\n",
    "model_xgb = joblib.load('xgboost_users.joblib')"
   ],
   "metadata": {
    "collapsed": false,
    "pycharm": {
     "name": "#%%\n"
    }
   }
  },
  {
   "cell_type": "code",
   "execution_count": null,
   "outputs": [],
   "source": [
    "y_svm = model_svm.predict(X_test)\n",
    "sc_svm = sum(np.equal(y_svm, y_test.values)) / len(y_svm)"
   ],
   "metadata": {
    "collapsed": false,
    "pycharm": {
     "name": "#%%\n"
    }
   }
  },
  {
   "cell_type": "code",
   "execution_count": 96,
   "outputs": [
    {
     "name": "stdout",
     "output_type": "stream",
     "text": [
      "Predicting with SVM was 95.39% accurate.\n"
     ]
    }
   ],
   "source": [
    "print(f\"Predicting with SVM was {round(sc_svm*100, 2)}% accurate.\")"
   ],
   "metadata": {
    "collapsed": false,
    "pycharm": {
     "name": "#%%\n"
    }
   }
  },
  {
   "cell_type": "code",
   "execution_count": null,
   "outputs": [],
   "source": [
    "y_pca_svm = model_pca_svm.predict(X_test)\n",
    "sc_pca_svm = sum(np.equal(y_pca_svm, y_test.values)) / len(y_pca_svm)"
   ],
   "metadata": {
    "collapsed": false,
    "pycharm": {
     "name": "#%%\n"
    }
   }
  },
  {
   "cell_type": "code",
   "execution_count": 97,
   "outputs": [
    {
     "name": "stdout",
     "output_type": "stream",
     "text": [
      "Predicting with PCA + SVM was 93.53% accurate.\n"
     ]
    }
   ],
   "source": [
    "print(f\"Predicting with PCA + SVM was {round(sc_pca_svm*100,2)}% accurate.\")"
   ],
   "metadata": {
    "collapsed": false,
    "pycharm": {
     "name": "#%%\n"
    }
   }
  },
  {
   "cell_type": "code",
   "execution_count": null,
   "outputs": [],
   "source": [
    "y_xgb = model_xgb.predict(X_test)\n",
    "sc_xgb = sum(np.equal(y_xgb, y_test.values)) / len(y_xgb)"
   ],
   "metadata": {
    "collapsed": false,
    "pycharm": {
     "name": "#%%\n"
    }
   }
  },
  {
   "cell_type": "code",
   "execution_count": 98,
   "outputs": [
    {
     "name": "stdout",
     "output_type": "stream",
     "text": [
      "Predicting with XGBoost was 61.24% accurate.\n"
     ]
    }
   ],
   "source": [
    "print(f\"Predicting with XGBoost was {round(sc_xgb*100, 2)}% accurate.\")"
   ],
   "metadata": {
    "collapsed": false,
    "pycharm": {
     "name": "#%%\n"
    }
   }
  },
  {
   "cell_type": "markdown",
   "source": [
    "Accuracy of majority classifier on such train/test split:"
   ],
   "metadata": {
    "collapsed": false
   }
  },
  {
   "cell_type": "code",
   "execution_count": null,
   "outputs": [],
   "source": [
    "y_train = df1.drop(test_idx)['USER']\n",
    "most_common = y_train.value_counts().idxmax()\n",
    "sc_majority = sum(np.equal(np.repeat(most_common, len(y_test)), y_test.values)) / len(y_test)"
   ],
   "metadata": {
    "collapsed": false,
    "pycharm": {
     "name": "#%%\n"
    }
   }
  },
  {
   "cell_type": "code",
   "execution_count": 99,
   "outputs": [
    {
     "name": "stdout",
     "output_type": "stream",
     "text": [
      "Predicting the majority user is 7.65% accurate.\n"
     ]
    }
   ],
   "source": [
    "print(f\"Predicting the majority user is {round(sc_majority*100, 2)}% accurate.\")"
   ],
   "metadata": {
    "collapsed": false,
    "pycharm": {
     "name": "#%%\n"
    }
   }
  },
  {
   "cell_type": "markdown",
   "source": [
    "Results of training on whole dataset on test data chosen by a point in time:"
   ],
   "metadata": {
    "collapsed": false
   }
  },
  {
   "cell_type": "code",
   "execution_count": null,
   "outputs": [],
   "source": [
    "# defining test set\n",
    "usage_test_ts = df1.loc[test_idx_timesplit]\n",
    "X_test_ts = usage_test_ts.loc[:, usage_test_ts.columns != 'USER']\n",
    "y_test_ts = usage_test_ts['USER']"
   ],
   "metadata": {
    "collapsed": false,
    "pycharm": {
     "name": "#%%\n"
    }
   }
  },
  {
   "cell_type": "code",
   "execution_count": null,
   "outputs": [],
   "source": [
    "# loading models that were trained in separate files\n",
    "model_svm_ts = joblib.load('svm_users_timesplit.joblib')\n",
    "model_pca_svm_ts = joblib.load('pipeline_users_timesplit.joblib')\n",
    "model_xgb_ts = joblib.load('xgboost_users_timesplit.joblib')"
   ],
   "metadata": {
    "collapsed": false,
    "pycharm": {
     "name": "#%%\n"
    }
   }
  },
  {
   "cell_type": "code",
   "execution_count": null,
   "outputs": [],
   "source": [
    "y_svm_ts = model_svm_ts.predict(X_test_ts)\n",
    "sc_svm_ts = sum(np.equal(y_svm_ts, y_test_ts.values)) / len(y_svm_ts)"
   ],
   "metadata": {
    "collapsed": false,
    "pycharm": {
     "name": "#%%\n"
    }
   }
  },
  {
   "cell_type": "code",
   "execution_count": 100,
   "outputs": [
    {
     "name": "stdout",
     "output_type": "stream",
     "text": [
      "Predicting with SVM was 94.62% accurate.\n"
     ]
    }
   ],
   "source": [
    "print(f\"Predicting with SVM was {round(sc_svm_ts*100, 2)}% accurate.\")"
   ],
   "metadata": {
    "collapsed": false,
    "pycharm": {
     "name": "#%%\n"
    }
   }
  },
  {
   "cell_type": "code",
   "execution_count": null,
   "outputs": [],
   "source": [
    "y_pca_svm_ts = model_pca_svm_ts.predict(X_test_ts)\n",
    "sc_pca_svm_ts = sum(np.equal(y_pca_svm_ts, y_test_ts.values)) / len(y_pca_svm_ts)"
   ],
   "metadata": {
    "collapsed": false,
    "pycharm": {
     "name": "#%%\n"
    }
   }
  },
  {
   "cell_type": "code",
   "execution_count": 101,
   "outputs": [
    {
     "name": "stdout",
     "output_type": "stream",
     "text": [
      "Predicting with PCA + SVM was 92.76% accurate.\n"
     ]
    }
   ],
   "source": [
    "print(f\"Predicting with PCA + SVM was {round(sc_pca_svm_ts*100,2)}% accurate.\")"
   ],
   "metadata": {
    "collapsed": false,
    "pycharm": {
     "name": "#%%\n"
    }
   }
  },
  {
   "cell_type": "code",
   "execution_count": null,
   "outputs": [],
   "source": [
    "y_xgb_ts = model_xgb_ts.predict(X_test_ts)\n",
    "sc_xgb_ts = sum(np.equal(y_xgb_ts, y_test_ts.values)) / len(y_xgb_ts)"
   ],
   "metadata": {
    "collapsed": false,
    "pycharm": {
     "name": "#%%\n"
    }
   }
  },
  {
   "cell_type": "code",
   "execution_count": 102,
   "outputs": [
    {
     "name": "stdout",
     "output_type": "stream",
     "text": [
      "Predicting with XGBoost was 37.82% accurate.\n"
     ]
    }
   ],
   "source": [
    "print(f\"Predicting with XGBoost was {round(sc_xgb_ts*100,2)}% accurate.\")"
   ],
   "metadata": {
    "collapsed": false,
    "pycharm": {
     "name": "#%%\n"
    }
   }
  },
  {
   "cell_type": "markdown",
   "source": [
    "Accuracy of majority classifier on such train/test split:"
   ],
   "metadata": {
    "collapsed": false
   }
  },
  {
   "cell_type": "code",
   "execution_count": 103,
   "outputs": [
    {
     "name": "stdout",
     "output_type": "stream",
     "text": [
      "Predicting the majority user is 7.61% accurate.\n"
     ]
    }
   ],
   "source": [
    "y_train_ts = df1.drop(test_idx_timesplit)['USER']\n",
    "most_common_ts = y_train_ts.value_counts().idxmax()\n",
    "sc_majority_ts = sum(np.equal(np.repeat(most_common_ts, len(y_test_ts)), y_test_ts.values)) / len(y_test)\n",
    "print(f\"Predicting the majority user is {round(sc_majority_ts*100, 2)}% accurate.\")"
   ],
   "metadata": {
    "collapsed": false,
    "pycharm": {
     "name": "#%%\n"
    }
   }
  },
  {
   "cell_type": "code",
   "execution_count": 114,
   "outputs": [],
   "source": [
    "fi = model_xgb.feature_importances_\n",
    "\n",
    "feature_imp = dict(zip(X_test.columns[:2], fi[:2]))\n",
    "feature_imp['ACTIVITYLOC'] =  sum(fi[2:-11])\n",
    "feature_imp['ACCOUNT'] = sum(fi[-11:])"
   ],
   "metadata": {
    "collapsed": false,
    "pycharm": {
     "name": "#%%\n"
    }
   }
  },
  {
   "cell_type": "code",
   "execution_count": 122,
   "outputs": [
    {
     "data": {
      "text/plain": "array(['ACTIVITYLOCATION_accountAddOns', 'ACTIVITYLOCATION_accountDemo',\n       'ACTIVITYLOCATION_accountPartners',\n       'ACTIVITYLOCATION_accountSettings',\n       'ACTIVITYLOCATION_addDemoCreativeDialog',\n       'ACTIVITYLOCATION_batchesUsingFeedDialog',\n       'ACTIVITYLOCATION_campaignArchiveDialog',\n       'ACTIVITYLOCATION_demoPage',\n       'ACTIVITYLOCATION_editCampaignCountryDialog',\n       'ACTIVITYLOCATION_editCustomAttributeDialog',\n       'ACTIVITYLOCATION_editMassProductionDialog',\n       'ACTIVITYLOCATION_folderArchiveDialog',\n       'ACTIVITYLOCATION_newSubFolderDialog',\n       'ACTIVITYLOCATION_userGroupDialog'], dtype=object)"
     },
     "execution_count": 122,
     "metadata": {},
     "output_type": "execute_result"
    }
   ],
   "source": [
    "X_test.columns[np.where(fi == 0)].values"
   ],
   "metadata": {
    "collapsed": false,
    "pycharm": {
     "name": "#%%\n"
    }
   }
  },
  {
   "cell_type": "code",
   "execution_count": 119,
   "outputs": [],
   "source": [
    "fi_ts = model_xgb_ts.feature_importances_\n",
    "feature_imp_ts = dict(zip(X_test.columns[:2], fi_ts[:2]))\n",
    "feature_imp_ts['ACTIVITYLOC'] =  sum(fi_ts[2:-11])\n",
    "feature_imp_ts['ACCOUNT'] = sum(fi_ts[-11:])"
   ],
   "metadata": {
    "collapsed": false,
    "pycharm": {
     "name": "#%%\n"
    }
   }
  },
  {
   "cell_type": "code",
   "execution_count": 123,
   "outputs": [
    {
     "data": {
      "text/plain": "array(['ACTIVITYLOCATION_accountAddOns',\n       'ACTIVITYLOCATION_accountPartners',\n       'ACTIVITYLOCATION_accountSettings',\n       'ACTIVITYLOCATION_addDemoCreativeDialog',\n       'ACTIVITYLOCATION_addUserDialog',\n       'ACTIVITYLOCATION_batchesUsingFeedDialog',\n       'ACTIVITYLOCATION_campaignArchiveDialog',\n       'ACTIVITYLOCATION_creativeArchiveDialog',\n       'ACTIVITYLOCATION_demoPage',\n       'ACTIVITYLOCATION_distributionPage/editFacebookAdSetDestinationDialog',\n       'ACTIVITYLOCATION_editBatchSpecMassProductionDialog',\n       'ACTIVITYLOCATION_editCampaignCountryDialog',\n       'ACTIVITYLOCATION_editCustomAttributeDialog',\n       'ACTIVITYLOCATION_feedImportDialog',\n       'ACTIVITYLOCATION_folderArchiveDialog',\n       'ACTIVITYLOCATION_moveCreativesDialog',\n       'ACTIVITYLOCATION_newCustomFeedDialog',\n       'ACTIVITYLOCATION_userApiApps'], dtype=object)"
     },
     "execution_count": 123,
     "metadata": {},
     "output_type": "execute_result"
    }
   ],
   "source": [
    "X_test.columns[np.where(fi_ts == 0)].values"
   ],
   "metadata": {
    "collapsed": false,
    "pycharm": {
     "name": "#%%\n"
    }
   }
  },
  {
   "cell_type": "code",
   "execution_count": 121,
   "outputs": [
    {
     "data": {
      "text/plain": "<Figure size 432x288 with 1 Axes>",
      "image/png": "[encoded data removed]"
     },
     "metadata": {
      "needs_background": "light"
     },
     "output_type": "display_data"
    }
   ],
   "source": [
    "df = {'Random': feature_imp, 'Timesplit': feature_imp_ts,}\n",
    "pd.DataFrame(df).sort_values(by='Random', ascending=False).plot.bar(rot=0)\n",
    "plt.savefig('importance.png')\n",
    "plt.show()\n",
    "\n"
   ],
   "metadata": {
    "collapsed": false,
    "pycharm": {
     "name": "#%%\n"
    }
   }
  },
  {
   "cell_type": "code",
   "execution_count": null,
   "outputs": [],
   "source": [],
   "metadata": {
    "collapsed": false,
    "pycharm": {
     "name": "#%%\n"
    }
   }
  }
 ],
 "metadata": {
  "colab": {
   "name": "Web_Scraping.ipynb",
   "provenance": []
  },
  "kernelspec": {
   "name": "conda-env-ids-proj-3-py",
   "language": "python",
   "display_name": "Python [conda env:ids-proj-3] *"
  },
  "language_info": {
   "codemirror_mode": {
    "name": "ipython",
    "version": 3
   },
   "file_extension": ".py",
   "mimetype": "text/x-python",
   "name": "python",
   "nbconvert_exporter": "python",
   "pygments_lexer": "ipython3",
   "version": "3.8.6"
  }
 },
 "nbformat": 4,
 "nbformat_minor": 1
}