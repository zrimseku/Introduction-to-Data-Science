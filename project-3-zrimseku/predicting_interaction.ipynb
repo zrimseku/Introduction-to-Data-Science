{
 "cells": [
  {
   "cell_type": "code",
   "execution_count": 1,
   "outputs": [],
   "source": [
    "import pandas as pd\n",
    "import numpy as np\n",
    "\n",
    "from sklearn.model_selection import KFold\n",
    "\n",
    "from sklearn.metrics import mean_squared_error\n",
    "from sklearn.neighbors import KNeighborsRegressor\n",
    "from sklearn.linear_model import LinearRegression, RidgeCV, LassoCV\n",
    "\n",
    "from sklearn.tree import DecisionTreeRegressor"
   ],
   "metadata": {
    "collapsed": false,
    "pycharm": {
     "name": "#%%\n"
    }
   }
  },
  {
   "cell_type": "code",
   "execution_count": 2,
   "outputs": [],
   "source": [
    "pd.options.mode.chained_assignment = None"
   ],
   "metadata": {
    "collapsed": false,
    "pycharm": {
     "name": "#%%\n"
    }
   }
  },
  {
   "cell_type": "code",
   "execution_count": 27,
   "outputs": [],
   "source": [
    "campaigns = pd.read_csv('data/campaigns.csv')"
   ],
   "metadata": {
    "collapsed": false,
    "pycharm": {
     "name": "#%%\n"
    }
   }
  },
  {
   "cell_type": "code",
   "execution_count": 28,
   "outputs": [],
   "source": [
    "campaigns = campaigns.drop(['UTCDATE', 'CAMPAIGNID', 'CREATIVEID', 'SDK'], axis=1)"
   ],
   "metadata": {
    "collapsed": false,
    "pycharm": {
     "name": "#%%\n"
    }
   }
  },
  {
   "cell_type": "code",
   "execution_count": 29,
   "outputs": [],
   "source": [
    "campaigns = pd.get_dummies(campaigns, columns=['PLATFORM'])"
   ],
   "metadata": {
    "collapsed": false,
    "pycharm": {
     "name": "#%%\n"
    }
   }
  },
  {
   "cell_type": "code",
   "execution_count": 30,
   "outputs": [],
   "source": [
    "t = round(0.8*campaigns.shape[0])\n",
    "c = campaigns.iloc[:t, :]\n",
    "cX = c.loc[:,c.columns != 'SESSIONSWITHINTERACTION'].to_numpy()\n",
    "cy = c.loc[:,'SESSIONSWITHINTERACTION'].to_numpy()\n",
    "c_test = campaigns.iloc[t:, :]\n",
    "cX_test = c_test.loc[:,c_test.columns != 'SESSIONSWITHINTERACTION'].to_numpy()\n",
    "cy_test = c_test.loc[:,'SESSIONSWITHINTERACTION'].to_numpy()"
   ],
   "metadata": {
    "collapsed": false,
    "pycharm": {
     "name": "#%%\n"
    }
   }
  },
  {
   "cell_type": "code",
   "execution_count": 38,
   "outputs": [
    {
     "name": "stdout",
     "output_type": "stream",
     "text": [
      "RMSE: 286.691817707513\n"
     ]
    }
   ],
   "source": [
    "lr = LinearRegression().fit(cX, cy)\n",
    "y_predlr = lr.predict(cX_test)\n",
    "print(f\"RMSE: {np.sqrt(mean_squared_error(cy_test, y_predlr))}\")"
   ],
   "metadata": {
    "collapsed": false,
    "pycharm": {
     "name": "#%%\n"
    }
   }
  },
  {
   "cell_type": "code",
   "execution_count": 38,
   "outputs": [],
   "source": [
    "LASSO_LR_CONFIG = dict(\n",
    "    max_iter=1e7,\n",
    "    alphas=[0.0001, 0.001, 0.01, 0.1, 0.5, 1, 3, 5, 10, 20, 50],\n",
    "    random_state=42,\n",
    "    cv=KFold(n_splits=10)\n",
    ")\n",
    "\n",
    "lasso_reg = LassoCV(**LASSO_LR_CONFIG)\n",
    "lasso_reg.fit(cX, cy)\n",
    "\n",
    "y_lasso = lasso_reg.predict(cX_test)"
   ],
   "metadata": {
    "collapsed": false,
    "pycharm": {
     "name": "#%%\n"
    }
   }
  },
  {
   "cell_type": "code",
   "execution_count": 39,
   "outputs": [
    {
     "name": "stdout",
     "output_type": "stream",
     "text": [
      "RMSE: 286.69181373431667\n"
     ]
    }
   ],
   "source": [
    "print(f\"RMSE: {np.sqrt(mean_squared_error(cy_test, y_lasso))}\")"
   ],
   "metadata": {
    "collapsed": false,
    "pycharm": {
     "name": "#%%\n"
    }
   }
  },
  {
   "cell_type": "code",
   "execution_count": 34,
   "outputs": [],
   "source": [
    "RIDGE_LR_CONFIG = dict(\n",
    "    alphas=[1e-3, 5e-2, 1e-2, 0.1, 0.3, 1, 3, 5, 10, 20, 30, 50],\n",
    "    cv=KFold(n_splits=10)\n",
    ")\n",
    "ridge_reg = RidgeCV(**RIDGE_LR_CONFIG)\n",
    "ridge_reg.fit(cX, cy)\n"
   ],
   "metadata": {
    "collapsed": false,
    "pycharm": {
     "name": "#%%\n"
    }
   }
  },
  {
   "cell_type": "code",
   "execution_count": 40,
   "outputs": [
    {
     "name": "stdout",
     "output_type": "stream",
     "text": [
      "RMSE: 286.76473151119797\n"
     ]
    }
   ],
   "source": [
    "y_ridge = ridge_reg.predict(cX_test)\n",
    "\n",
    "print(f\"RMSE: {np.sqrt(mean_squared_error(cy_test, y_ridge))}\")"
   ],
   "metadata": {
    "collapsed": false,
    "pycharm": {
     "name": "#%%\n"
    }
   }
  },
  {
   "cell_type": "markdown",
   "source": [
    "Mean value predictor:"
   ],
   "metadata": {
    "collapsed": false,
    "pycharm": {
     "name": "#%% md\n"
    }
   }
  },
  {
   "cell_type": "code",
   "execution_count": 41,
   "outputs": [
    {
     "name": "stdout",
     "output_type": "stream",
     "text": [
      "RMSE: 295.3052617977782\n"
     ]
    }
   ],
   "source": [
    "print(f\"RMSE: {np.sqrt(mean_squared_error(cy_test, np.repeat(np.mean(cy), len(cy_test))))}\")"
   ],
   "metadata": {
    "collapsed": false,
    "pycharm": {
     "name": "#%%\n"
    }
   }
  },
  {
   "cell_type": "markdown",
   "source": [
    "Median value predictor:"
   ],
   "metadata": {
    "collapsed": false,
    "pycharm": {
     "name": "#%% md\n"
    }
   }
  },
  {
   "cell_type": "code",
   "execution_count": 42,
   "outputs": [
    {
     "name": "stdout",
     "output_type": "stream",
     "text": [
      "RMSE: 296.34772337260983\n"
     ]
    }
   ],
   "source": [
    "print(f\"RMSE: {np.sqrt(mean_squared_error(cy_test, np.repeat(np.median(cy), len(cy_test))))}\")\n"
   ],
   "metadata": {
    "collapsed": false,
    "pycharm": {
     "name": "#%%\n"
    }
   }
  },
  {
   "cell_type": "code",
   "execution_count": 43,
   "outputs": [
    {
     "name": "stdout",
     "output_type": "stream",
     "text": [
      "RMSE: 380.4075988733357\n"
     ]
    }
   ],
   "source": [
    "dt = DecisionTreeRegressor(criterion='friedman_mse').fit(cX, cy)\n",
    "y_dt = dt.predict(cX_test)\n",
    "\n",
    "print(f\"RMSE: {np.sqrt(mean_squared_error(cy_test, y_dt))}\")"
   ],
   "metadata": {
    "collapsed": false,
    "pycharm": {
     "name": "#%%\n"
    }
   }
  },
  {
   "cell_type": "code",
   "execution_count": 44,
   "outputs": [
    {
     "name": "stdout",
     "output_type": "stream",
     "text": [
      "RMSE: 381.1859649797657\n"
     ]
    }
   ],
   "source": [
    "dtmse = DecisionTreeRegressor(criterion='mse').fit(cX, cy)\n",
    "y_dt = dtmse.predict(cX_test)\n",
    "np.sqrt(mean_squared_error(cy_test, y_dt))\n",
    "print(f\"RMSE: {np.sqrt(mean_squared_error(cy_test, y_dt))}\")"
   ],
   "metadata": {
    "collapsed": false,
    "pycharm": {
     "name": "#%%\n"
    }
   }
  },
  {
   "cell_type": "code",
   "execution_count": 54,
   "outputs": [
    {
     "name": "stdout",
     "output_type": "stream",
     "text": [
      "RMSE: 355.8351330527831\n"
     ]
    }
   ],
   "source": [
    "sample_index = np.random.choice(range(cX.shape[0]), 20000, replace=False)\n",
    "samp = cX[sample_index, :]\n",
    "y_sample = cy[sample_index]\n",
    "dtmae = DecisionTreeRegressor(criterion='mae', max_depth=100).fit(samp, y_sample)\n",
    "y_dt = dtmae.predict(cX_test)\n",
    "\n",
    "print(f\"RMSE: {np.sqrt(mean_squared_error(cy_test, y_dt))}\")"
   ],
   "metadata": {
    "collapsed": false,
    "pycharm": {
     "name": "#%%\n"
    }
   }
  },
  {
   "cell_type": "code",
   "execution_count": 31,
   "outputs": [],
   "source": [
    "knr = KNeighborsRegressor().fit(cX, cy)"
   ],
   "metadata": {
    "collapsed": false,
    "pycharm": {
     "name": "#%%\n"
    }
   }
  },
  {
   "cell_type": "code",
   "execution_count": 55,
   "outputs": [
    {
     "name": "stdout",
     "output_type": "stream",
     "text": [
      "RMSE: 380.4075988733357\n"
     ]
    }
   ],
   "source": [
    "y_knr = dt.predict(cX_test)\n",
    "\n",
    "print(f\"RMSE: {np.sqrt(mean_squared_error(cy_test, y_knr))}\")"
   ],
   "metadata": {
    "collapsed": false,
    "pycharm": {
     "name": "#%%\n"
    }
   }
  },
  {
   "cell_type": "markdown",
   "source": [
    "Models trained only where there is 10 or more requested sessions."
   ],
   "metadata": {
    "collapsed": false,
    "pycharm": {
     "name": "#%% md\n"
    }
   }
  },
  {
   "cell_type": "code",
   "execution_count": 47,
   "outputs": [
    {
     "name": "stdout",
     "output_type": "stream",
     "text": [
      "Percentage of rows with less than 10 requested sessions: 31.614593718253193\n"
     ]
    }
   ],
   "source": [
    "campaigns_big = campaigns[campaigns['REQUESTEDSESSIONS'] >= 10]\n",
    "print(f\"Percentage of rows with less than 10 requested sessions: {round(campaigns.shape[0] - campaigns_big.shape[0]) / campaigns.shape[0] * 100}\")"
   ],
   "metadata": {
    "collapsed": false,
    "pycharm": {
     "name": "#%%\n"
    }
   }
  },
  {
   "cell_type": "code",
   "execution_count": 48,
   "outputs": [],
   "source": [
    "tb = round(0.8*campaigns_big.shape[0])\n",
    "cb = campaigns_big.iloc[:tb, :]\n",
    "cXb = cb.loc[:,cb.columns != 'SESSIONSWITHINTERACTION'].to_numpy()\n",
    "cyb = cb.loc[:,'SESSIONSWITHINTERACTION'].to_numpy()\n",
    "cb_test = campaigns_big.iloc[tb:, :]\n",
    "cXb_test = cb_test.loc[:,cb_test.columns != 'SESSIONSWITHINTERACTION'].to_numpy()\n",
    "cyb_test = cb_test.loc[:,'SESSIONSWITHINTERACTION'].to_numpy()"
   ],
   "metadata": {
    "collapsed": false,
    "pycharm": {
     "name": "#%%\n"
    }
   }
  },
  {
   "cell_type": "code",
   "execution_count": 49,
   "outputs": [
    {
     "name": "stdout",
     "output_type": "stream",
     "text": [
      "RMSE: 344.0679552089317\n"
     ]
    }
   ],
   "source": [
    "lr = LinearRegression().fit(cXb, cyb)\n",
    "yb_predlr = lr.predict(cXb_test)\n",
    "print(f\"RMSE: {np.sqrt(mean_squared_error(cyb_test, yb_predlr))}\")"
   ],
   "metadata": {
    "collapsed": false,
    "pycharm": {
     "name": "#%%\n"
    }
   }
  },
  {
   "cell_type": "code",
   "execution_count": 50,
   "outputs": [
    {
     "name": "stdout",
     "output_type": "stream",
     "text": [
      "RMSE: 344.0679510056945\n"
     ]
    }
   ],
   "source": [
    "LASSO_LR_CONFIG = dict(\n",
    "    max_iter=1e7,\n",
    "    alphas=[0.0001, 0.001, 0.01, 0.1, 0.5, 1, 3, 5, 10, 20, 50],\n",
    "    random_state=42,\n",
    "    cv=KFold(n_splits=10)\n",
    ")\n",
    "\n",
    "lasso_reg = LassoCV(**LASSO_LR_CONFIG)\n",
    "lasso_reg.fit(cXb, cyb)\n",
    "\n",
    "y_lasso = lasso_reg.predict(cXb_test)\n",
    "\n",
    "print(f\"RMSE: {np.sqrt(mean_squared_error(cyb_test, y_lasso))}\")"
   ],
   "metadata": {
    "collapsed": false,
    "pycharm": {
     "name": "#%%\n"
    }
   }
  },
  {
   "cell_type": "code",
   "execution_count": 55,
   "outputs": [],
   "source": [
    "RIDGE_LR_CONFIG = dict(\n",
    "    alphas=[1e-3, 5e-2, 1e-2, 0.1, 0.3, 1, 3, 5, 10, 20, 30, 50],\n",
    "    cv=KFold(n_splits=10)\n",
    ")\n",
    "ridge_reg = RidgeCV(**RIDGE_LR_CONFIG)\n",
    "ridge_reg.fit(cXb, cyb)"
   ],
   "metadata": {
    "collapsed": false,
    "pycharm": {
     "name": "#%%\n"
    }
   }
  },
  {
   "cell_type": "code",
   "execution_count": 52,
   "outputs": [
    {
     "name": "stdout",
     "output_type": "stream",
     "text": [
      "RMSE: 344.06795520862636\n"
     ]
    }
   ],
   "source": [
    "y_ridge = ridge_reg.predict(cXb_test)\n",
    "print(f\"RMSE: {np.sqrt(mean_squared_error(cyb_test, y_ridge))}\")\n",
    "\n"
   ],
   "metadata": {
    "collapsed": false,
    "pycharm": {
     "name": "#%%\n"
    }
   }
  },
  {
   "cell_type": "markdown",
   "source": [
    "Mean value predictor:"
   ],
   "metadata": {
    "collapsed": false,
    "pycharm": {
     "name": "#%% md\n"
    }
   }
  },
  {
   "cell_type": "code",
   "execution_count": 53,
   "outputs": [
    {
     "name": "stdout",
     "output_type": "stream",
     "text": [
      "RMSE: 353.7579901949412\n"
     ]
    }
   ],
   "source": [
    "print(f\"RMSE: {np.sqrt(mean_squared_error(cyb_test, np.repeat(np.mean(cyb), len(cyb_test))))}\")"
   ],
   "metadata": {
    "collapsed": false,
    "pycharm": {
     "name": "#%%\n"
    }
   }
  },
  {
   "cell_type": "markdown",
   "source": [
    "Median value predictor:"
   ],
   "metadata": {
    "collapsed": false,
    "pycharm": {
     "name": "#%% md\n"
    }
   }
  },
  {
   "cell_type": "code",
   "execution_count": 46,
   "outputs": [
    {
     "name": "stdout",
     "output_type": "stream",
     "text": [
      "RMSE: 355.3753394750715\n"
     ]
    }
   ],
   "source": [
    "print(f\"RMSE: {np.sqrt(mean_squared_error(cyb_test, np.repeat(np.median(cyb), len(cyb_test))))}\")"
   ],
   "metadata": {
    "collapsed": false,
    "pycharm": {
     "name": "#%%\n"
    }
   }
  },
  {
   "cell_type": "code",
   "execution_count": 56,
   "outputs": [
    {
     "name": "stdout",
     "output_type": "stream",
     "text": [
      "RMSE: 455.8194439655283\n"
     ]
    }
   ],
   "source": [
    "dt = DecisionTreeRegressor(criterion='friedman_mse').fit(cXb, cyb)\n",
    "y_dt = dt.predict(cXb_test)\n",
    "print(f\"RMSE: {np.sqrt(mean_squared_error(cyb_test, y_dt))}\")"
   ],
   "metadata": {
    "collapsed": false,
    "pycharm": {
     "name": "#%%\n"
    }
   }
  },
  {
   "cell_type": "code",
   "execution_count": 57,
   "outputs": [
    {
     "name": "stdout",
     "output_type": "stream",
     "text": [
      "RMSE: 454.08468710995095\n"
     ]
    }
   ],
   "source": [
    "dtmse = DecisionTreeRegressor(criterion='mse').fit(cXb, cyb)\n",
    "y_dt = dtmse.predict(cXb_test)\n",
    "print(f\"RMSE: {np.sqrt(mean_squared_error(cyb_test, y_dt))}\")"
   ],
   "metadata": {
    "collapsed": false,
    "pycharm": {
     "name": "#%%\n"
    }
   }
  },
  {
   "cell_type": "code",
   "execution_count": 58,
   "outputs": [
    {
     "name": "stdout",
     "output_type": "stream",
     "text": [
      "RMSE: 427.48432121180736\n"
     ]
    }
   ],
   "source": [
    "sample_index = np.random.choice(range(cXb.shape[0]), 20000, replace=False)\n",
    "samp = cXb[sample_index, :]\n",
    "y_sample = cyb[sample_index]\n",
    "dtmae = DecisionTreeRegressor(criterion='mae', max_depth=100).fit(samp, y_sample)\n",
    "y_dt = dtmae.predict(cXb_test)\n",
    "print(f\"RMSE: {np.sqrt(mean_squared_error(cyb_test, y_dt))}\")"
   ],
   "metadata": {
    "collapsed": false,
    "pycharm": {
     "name": "#%%\n"
    }
   }
  },
  {
   "cell_type": "code",
   "execution_count": 59,
   "outputs": [],
   "source": [
    "knr = KNeighborsRegressor().fit(cXb, cyb)"
   ],
   "metadata": {
    "collapsed": false,
    "pycharm": {
     "name": "#%%\n"
    }
   }
  },
  {
   "cell_type": "code",
   "execution_count": 60,
   "outputs": [
    {
     "name": "stdout",
     "output_type": "stream",
     "text": [
      "RMSE: 455.8194439655283\n"
     ]
    }
   ],
   "source": [
    "y_knr = dt.predict(cXb_test)\n",
    "print(f\"RMSE: {np.sqrt(mean_squared_error(cyb_test, y_knr))}\")"
   ],
   "metadata": {
    "collapsed": false,
    "pycharm": {
     "name": "#%%\n"
    }
   }
  },
  {
   "cell_type": "code",
   "execution_count": null,
   "outputs": [],
   "source": [],
   "metadata": {
    "collapsed": false,
    "pycharm": {
     "name": "#%%\n"
    }
   }
  }
 ],
 "metadata": {
  "kernelspec": {
   "display_name": "Python 3",
   "language": "python",
   "name": "python3"
  },
  "language_info": {
   "codemirror_mode": {
    "name": "ipython",
    "version": 2
   },
   "file_extension": ".py",
   "mimetype": "text/x-python",
   "name": "python",
   "nbconvert_exporter": "python",
   "pygments_lexer": "ipython2",
   "version": "2.7.6"
  }
 },
 "nbformat": 4,
 "nbformat_minor": 0
}